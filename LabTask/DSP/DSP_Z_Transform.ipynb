{
 "cells": [
  {
   "cell_type": "code",
   "execution_count": 10,
   "metadata": {},
   "outputs": [
    {
     "name": "stdout",
     "output_type": "stream",
     "text": [
      "Collecting lcapy\n",
      "  Downloading lcapy-1.9.1-py3-none-any.whl (386 kB)\n",
      "Requirement already satisfied: matplotlib in c:\\users\\hp\\anaconda3\\lib\\site-packages (from lcapy) (3.4.3)\n",
      "Requirement already satisfied: numpy in c:\\users\\hp\\anaconda3\\lib\\site-packages (from lcapy) (1.20.3)\n",
      "Requirement already satisfied: scipy in c:\\users\\hp\\anaconda3\\lib\\site-packages (from lcapy) (1.7.1)\n",
      "Requirement already satisfied: networkx in c:\\users\\hp\\anaconda3\\lib\\site-packages (from lcapy) (2.6.3)\n",
      "Collecting sympy>=1.10.1\n",
      "  Downloading sympy-1.11.1-py3-none-any.whl (6.5 MB)\n",
      "Collecting property-cached\n",
      "  Downloading property_cached-1.6.4-py2.py3-none-any.whl (7.8 kB)\n",
      "Requirement already satisfied: setuptools in c:\\users\\hp\\anaconda3\\lib\\site-packages (from lcapy) (58.0.4)\n",
      "Requirement already satisfied: IPython in c:\\users\\hp\\anaconda3\\lib\\site-packages (from lcapy) (7.29.0)\n",
      "Requirement already satisfied: wheel in c:\\users\\hp\\anaconda3\\lib\\site-packages (from lcapy) (0.37.0)\n",
      "Requirement already satisfied: mpmath>=0.19 in c:\\users\\hp\\anaconda3\\lib\\site-packages (from sympy>=1.10.1->lcapy) (1.2.1)\n",
      "Requirement already satisfied: prompt-toolkit!=3.0.0,!=3.0.1,<3.1.0,>=2.0.0 in c:\\users\\hp\\anaconda3\\lib\\site-packages (from IPython->lcapy) (3.0.20)\n",
      "Requirement already satisfied: pygments in c:\\users\\hp\\anaconda3\\lib\\site-packages (from IPython->lcapy) (2.10.0)\n",
      "Requirement already satisfied: colorama in c:\\users\\hp\\anaconda3\\lib\\site-packages (from IPython->lcapy) (0.4.4)\n",
      "Requirement already satisfied: traitlets>=4.2 in c:\\users\\hp\\anaconda3\\lib\\site-packages (from IPython->lcapy) (5.1.0)\n",
      "Requirement already satisfied: pickleshare in c:\\users\\hp\\anaconda3\\lib\\site-packages (from IPython->lcapy) (0.7.5)\n",
      "Requirement already satisfied: jedi>=0.16 in c:\\users\\hp\\anaconda3\\lib\\site-packages (from IPython->lcapy) (0.18.0)\n",
      "Requirement already satisfied: backcall in c:\\users\\hp\\anaconda3\\lib\\site-packages (from IPython->lcapy) (0.2.0)\n",
      "Requirement already satisfied: matplotlib-inline in c:\\users\\hp\\anaconda3\\lib\\site-packages (from IPython->lcapy) (0.1.2)\n",
      "Requirement already satisfied: decorator in c:\\users\\hp\\anaconda3\\lib\\site-packages (from IPython->lcapy) (5.1.0)\n",
      "Requirement already satisfied: parso<0.9.0,>=0.8.0 in c:\\users\\hp\\anaconda3\\lib\\site-packages (from jedi>=0.16->IPython->lcapy) (0.8.2)\n",
      "Requirement already satisfied: wcwidth in c:\\users\\hp\\anaconda3\\lib\\site-packages (from prompt-toolkit!=3.0.0,!=3.0.1,<3.1.0,>=2.0.0->IPython->lcapy) (0.2.5)\n",
      "Requirement already satisfied: kiwisolver>=1.0.1 in c:\\users\\hp\\anaconda3\\lib\\site-packages (from matplotlib->lcapy) (1.3.1)\n",
      "Requirement already satisfied: cycler>=0.10 in c:\\users\\hp\\anaconda3\\lib\\site-packages (from matplotlib->lcapy) (0.10.0)\n",
      "Requirement already satisfied: pyparsing>=2.2.1 in c:\\users\\hp\\anaconda3\\lib\\site-packages (from matplotlib->lcapy) (3.0.4)\n",
      "Requirement already satisfied: python-dateutil>=2.7 in c:\\users\\hp\\anaconda3\\lib\\site-packages (from matplotlib->lcapy) (2.8.2)\n",
      "Requirement already satisfied: pillow>=6.2.0 in c:\\users\\hp\\anaconda3\\lib\\site-packages (from matplotlib->lcapy) (8.4.0)\n",
      "Requirement already satisfied: six in c:\\users\\hp\\anaconda3\\lib\\site-packages (from cycler>=0.10->matplotlib->lcapy) (1.16.0)\n",
      "Installing collected packages: sympy, property-cached, lcapy\n",
      "  Attempting uninstall: sympy\n",
      "    Found existing installation: sympy 1.9\n",
      "    Uninstalling sympy-1.9:\n",
      "      Successfully uninstalled sympy-1.9\n",
      "Successfully installed lcapy-1.9.1 property-cached-1.6.4 sympy-1.11.1\n",
      "Note: you may need to restart the kernel to use updated packages.\n"
     ]
    }
   ],
   "source": [
    "%pip install lcapy"
   ]
  },
  {
   "cell_type": "markdown",
   "metadata": {},
   "source": [
    "### **Z Transform**"
   ]
  },
  {
   "cell_type": "code",
   "execution_count": 1,
   "metadata": {},
   "outputs": [
    {
     "name": "stdout",
     "output_type": "stream",
     "text": [
      "Time Limit for x(n): [-1, 0]\n",
      "x(n):  [1, 2]\n",
      "X(z): 1z^1 +2\n"
     ]
    }
   ],
   "source": [
    "import numpy as np\n",
    "import matplotlib.pyplot as plt\n",
    "import copy as cp\n",
    "import lcapy as lc\n",
    "from lcapy.discretetime import z\n",
    "\n",
    "\n",
    "X=[]\n",
    "x=[]\n",
    "\n",
    "l = int(input(\"Enter the lower limit of x(n) time:  \"))\n",
    "r = int(input(\"Enter the upper limit of x(n) time:  \"))\n",
    "\n",
    "for i in range(int(l),int(r)+1):\n",
    "    tval = input(\"Enter the value of x(n) for t = %d:  \" %(i))\n",
    "    x.append(int(tval))\n",
    "\n",
    "\n",
    "print(\"Time Limit for x(n): [%d, %d]\"%(int(l),int(r)))\n",
    "print(\"x(n): \",x)\n",
    "\n",
    "p = l*-1\n",
    "s=\"X(z): \"\n",
    "for i in range(0,int(r)-int(l)+1):\n",
    "    if(p!=0):\n",
    "        s+=str(int(x[i]))+\"z^\"+str(int(p))\n",
    "    else:\n",
    "        s+=str(int(x[i]))\n",
    "\n",
    "    if(i+1<(int(r)-int(l)+1) and x[i+1]>0):\n",
    "        s+=\" +\"\n",
    "    elif(i+1<(int(r)-int(l)+1) and x[i+1]<0):\n",
    "        s+=\" \"\n",
    "    p=p-1\n",
    "\n",
    "print(s)\n"
   ]
  },
  {
   "cell_type": "code",
   "execution_count": 2,
   "metadata": {},
   "outputs": [
    {
     "name": "stdout",
     "output_type": "stream",
     "text": [
      "X(z):  1 + z**(-2)\n"
     ]
    },
    {
     "data": {
      "text/plain": [
       "<AxesSubplot:xlabel='Re(z)', ylabel='Im(z)'>"
      ]
     },
     "execution_count": 2,
     "metadata": {},
     "output_type": "execute_result"
    },
    {
     "data": {
      "image/png": "[encoded data removed]",
      "text/plain": [
       "<Figure size 432x288 with 1 Axes>"
      ]
     },
     "metadata": {
      "needs_background": "light"
     },
     "output_type": "display_data"
    }
   ],
   "source": [
    "from lcapy import delta, u, cos\n",
    "from lcapy.discretetime import n, z\n",
    "\n",
    "\n",
    "x = delta(n) + delta(n - 2)\n",
    "X = x(z)\n",
    "print(\"X(z): \",X)\n",
    "X.plot()"
   ]
  },
  {
   "cell_type": "code",
   "execution_count": 3,
   "metadata": {},
   "outputs": [
    {
     "name": "stdout",
     "output_type": "stream",
     "text": [
      "X(z):  5*Sum(z**m*UnitStep(-m - 1), (m, 0, oo)) + 5/(1 - 1/z)\n"
     ]
    },
    {
     "data": {
      "text/plain": [
       "<AxesSubplot:xlabel='Re(z)', ylabel='Im(z)'>"
      ]
     },
     "execution_count": 3,
     "metadata": {},
     "output_type": "execute_result"
    },
    {
     "data": {
      "image/png": "[encoded data removed]",
      "text/plain": [
       "<Figure size 432x288 with 1 Axes>"
      ]
     },
     "metadata": {
      "needs_background": "light"
     },
     "output_type": "display_data"
    }
   ],
   "source": [
    "x = 5* u(n) + 5* u(-n-1)\n",
    "X = x(z)\n",
    "print(\"X(z): \",X)\n",
    "X.plot()"
   ]
  },
  {
   "cell_type": "markdown",
   "metadata": {},
   "source": [
    "### **Inverse Z Transform**"
   ]
  },
  {
   "cell_type": "code",
   "execution_count": 4,
   "metadata": {},
   "outputs": [
    {
     "name": "stdout",
     "output_type": "stream",
     "text": [
      "Piecewise((3*(sqrt(2)/2)**n*sin(pi*n/4) + (sqrt(2)/2)**n*cos(pi*n/4), n >= 0))\n"
     ]
    }
   ],
   "source": [
    "X=(1+z**(-1))/(1-z**(-1)+0.5*z**(-2))\n",
    "x=X.IZT()\n",
    "print(x) "
   ]
  }
 ],
 "metadata": {
  "kernelspec": {
   "display_name": "Python 3.9.7 ('base')",
   "language": "python",
   "name": "python3"
  },
  "language_info": {
   "codemirror_mode": {
    "name": "ipython",
    "version": 3
   },
   "file_extension": ".py",
   "mimetype": "text/x-python",
   "name": "python",
   "nbconvert_exporter": "python",
   "pygments_lexer": "ipython3",
   "version": "3.9.7"
  },
  "orig_nbformat": 4,
  "vscode": {
   "interpreter": {
    "hash": "dc07d24e2f18896857f0b2a651fe84ba40ce7b297e58d8804a308c8039f752a6"
   }
  }
 },
 "nbformat": 4,
 "nbformat_minor": 2
}
