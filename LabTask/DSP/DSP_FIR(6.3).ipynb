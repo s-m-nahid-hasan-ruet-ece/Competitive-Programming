{
 "cells": [
  {
   "cell_type": "code",
   "execution_count": 1,
   "metadata": {},
   "outputs": [
    {
     "name": "stdout",
     "output_type": "stream",
     "text": [
      "Stopband Attenuation--:  50 dB\n",
      "Passband Edge Frequency-------:  1500.000000 Hz\n",
      "Transition Width------:  500.000000 Hz\n",
      "Sampling Frequency----:  8000.000000 Hz\n"
     ]
    }
   ],
   "source": [
    "import numpy as np\n",
    "\n",
    "passbandEdgeFrequency = float(input(\"Enter the value of Passband Edge Frequency: \"))\n",
    "transitionWidth= float(input(\"Enter the value of Transition Width: \"))\n",
    "stopbandAttenuation = float(input(\"Enter the value of Stopband Attenuation: \"))\n",
    "samplingFrequency = float(input(\"Enter the value of Sampling Frequency: \"))\n",
    "\n",
    "print(\"Stopband Attenuation--:  %d dB\"%(int(stopbandAttenuation)))\n",
    "print(\"Passband Edge Frequency-------:  %f Hz\" %(passbandEdgeFrequency))\n",
    "print(\"Transition Width------:  %f Hz\"%(transitionWidth))\n",
    "print(\"Sampling Frequency----:  %f Hz\"%(samplingFrequency))\n"
   ]
  },
  {
   "cell_type": "code",
   "execution_count": 7,
   "metadata": {},
   "outputs": [
    {
     "name": "stdout",
     "output_type": "stream",
     "text": [
      "DelF:  0.062500\n",
      "N:  53\n",
      "cuttoffFrequency:  0.218750 \n",
      "h[0]=---------------------------  -9.14e-04 -------------------------------=h[52]\n",
      "h[1]=---------------------------  2.17e-04 -------------------------------=h[51]\n",
      "h[2]=---------------------------  1.33e-03 -------------------------------=h[50]\n",
      "h[3]=---------------------------  3.21e-04 -------------------------------=h[49]\n",
      "h[4]=---------------------------  -1.92e-03 -------------------------------=h[48]\n",
      "h[5]=---------------------------  -1.47e-03 -------------------------------=h[47]\n",
      "h[6]=---------------------------  2.36e-03 -------------------------------=h[46]\n",
      "h[7]=---------------------------  3.48e-03 -------------------------------=h[45]\n",
      "h[8]=---------------------------  -1.99e-03 -------------------------------=h[44]\n",
      "h[9]=---------------------------  -6.28e-03 -------------------------------=h[43]\n",
      "h[10]=---------------------------  6.70e-18 -------------------------------=h[42]\n",
      "h[11]=---------------------------  9.27e-03 -------------------------------=h[41]\n",
      "h[12]=---------------------------  4.34e-03 -------------------------------=h[40]\n",
      "h[13]=---------------------------  -1.13e-02 -------------------------------=h[39]\n",
      "h[14]=---------------------------  -1.14e-02 -------------------------------=h[38]\n",
      "h[15]=---------------------------  1.06e-02 -------------------------------=h[37]\n",
      "h[16]=---------------------------  2.10e-02 -------------------------------=h[36]\n",
      "h[17]=---------------------------  -5.26e-03 -------------------------------=h[35]\n",
      "h[18]=---------------------------  -3.22e-02 -------------------------------=h[34]\n",
      "h[19]=---------------------------  -7.54e-03 -------------------------------=h[33]\n",
      "h[20]=---------------------------  4.35e-02 -------------------------------=h[32]\n",
      "h[21]=---------------------------  3.26e-02 -------------------------------=h[31]\n",
      "h[22]=---------------------------  -5.34e-02 -------------------------------=h[30]\n",
      "h[23]=---------------------------  -8.57e-02 -------------------------------=h[29]\n",
      "h[24]=---------------------------  6.01e-02 -------------------------------=h[28]\n",
      "h[25]=---------------------------  3.11e-01 -------------------------------=h[27]\n",
      "h[26]=---------------------------  4.38e-01 -------------------------------=h[26]\n"
     ]
    }
   ],
   "source": [
    "\n",
    "\n",
    "def w(n, N):\n",
    "    y = 0.54 + 0.46*np.cos(2*np.pi*n/N)\n",
    "    return y\n",
    "\n",
    "\n",
    "\n",
    "delF = transitionWidth/samplingFrequency\n",
    "print(\"DelF:  %f\"%(delF))\n",
    "\n",
    "N = np.ceil((3.3)/(delF))\n",
    "print(\"N:  %d\"%(N))\n",
    "\n",
    "\n",
    "cuttoffFrequency = (passbandEdgeFrequency + (transitionWidth)/2)/samplingFrequency\n",
    "\n",
    "print(\"cuttoffFrequency:  %f \"%(cuttoffFrequency))\n",
    "\n",
    "low = 0\n",
    "hi = N\n",
    "h = []\n",
    "hd =[]\n",
    "window=[]\n",
    "for i in range(0,int(N/2)+1):\n",
    "    if(i==0):\n",
    "       hD = 2*cuttoffFrequency\n",
    "       W = w(i,N)\n",
    "       hd.append(hD)\n",
    "       h.append(hD*W)\n",
    "       window.append(W)\n",
    "    else:\n",
    "       hD = np.sin((2*np.pi*i*cuttoffFrequency))/(i*np.pi)\n",
    "       W = w(i,N)\n",
    "       hd.append(hD)\n",
    "       h.append(hD*W)\n",
    "       window.append(W)\n",
    "\n",
    "\n",
    "\n",
    "\n",
    "h.reverse()\n",
    "\n",
    "l = 0\n",
    "r = N-1\n",
    "for i in range(0,len(h)):\n",
    "    scientific_notation=\"{:.2e}\".format(h[i])\n",
    "    print(\"h[%d]=---------------------------  %s -------------------------------=h[%d]\"%(i,scientific_notation,r))\n",
    "    r-= 1\n"
   ]
  }
 ],
 "metadata": {
  "kernelspec": {
   "display_name": "base",
   "language": "python",
   "name": "python3"
  },
  "language_info": {
   "codemirror_mode": {
    "name": "ipython",
    "version": 3
   },
   "file_extension": ".py",
   "mimetype": "text/x-python",
   "name": "python",
   "nbconvert_exporter": "python",
   "pygments_lexer": "ipython3",
   "version": "3.9.7 (default, Sep 16 2021, 16:59:28) [MSC v.1916 64 bit (AMD64)]"
  },
  "orig_nbformat": 4,
  "vscode": {
   "interpreter": {
    "hash": "dc07d24e2f18896857f0b2a651fe84ba40ce7b297e58d8804a308c8039f752a6"
   }
  }
 },
 "nbformat": 4,
 "nbformat_minor": 2
}
