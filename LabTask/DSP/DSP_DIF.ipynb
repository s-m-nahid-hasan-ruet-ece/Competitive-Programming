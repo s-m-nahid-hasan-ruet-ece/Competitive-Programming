{
 "cells": [
  {
   "cell_type": "code",
   "execution_count": 64,
   "metadata": {},
   "outputs": [
    {
     "name": "stdout",
     "output_type": "stream",
     "text": [
      "Number of Point: 8\n",
      "x(n):  [1, 1, 2, 2, 3, 3, 4, 4]\n"
     ]
    }
   ],
   "source": [
    "nPoint = int(input(\"Enter the number of point: \"))\n",
    "\n",
    "x=[]\n",
    "\n",
    "for i in range(0,nPoint):\n",
    "    x.append(int(input(\"x(%d): \"%i))) \n",
    "\n",
    "print(\"Number of Point: %d\"%(nPoint))\n",
    "print(\"x(n): \",x)\n",
    "\n"
   ]
  },
  {
   "cell_type": "code",
   "execution_count": 65,
   "metadata": {},
   "outputs": [
    {
     "name": "stdout",
     "output_type": "stream",
     "text": [
      "[(1+0j), (0.707-0.707j), -1j, (-0.707-0.707j)]\n",
      "After Eight Point x(n):  [4, 4, 6, 6, (-2+0j), (-1.414+1.414j), 2j, (1.414+1.414j)]\n",
      "After Four Point x(n):  [10, 10, (-2+0j), 2j, (-2+2j), 2.828j, (-2-2j), 2.828j]\n",
      "After Two Point x(n):  [20, 0, (-2+2j), (-2-2j), (-2+4.827999999999999j), (-2-0.8279999999999998j), (-2+0.8279999999999998j), (-2-4.827999999999999j)]\n",
      "x(k):  [20, (-2+4.827999999999999j), (-2+2j), (-2+0.8279999999999998j), 0, (-2-0.8279999999999998j), (-2-2j), (-2-4.827999999999999j)]\n"
     ]
    }
   ],
   "source": [
    "import numpy as np\n",
    "def CalEightPoint(n,x,w):\n",
    "    if(n<8):\n",
    "        return x\n",
    "    print(w)\n",
    "    xx =[complex(0,0) for x in range(8)]\n",
    "    for i in range(0,n):\n",
    "        if(i<4):\n",
    "            xx[i]=(x[i]+x[i+4])\n",
    "        else:\n",
    "            xx[i]=((-1*x[i]+x[i-4])*w[i-4])\n",
    "    print(\"After Eight Point x(n): \",xx)\n",
    "\n",
    "    return xx\n",
    "\n",
    "\n",
    "\n",
    "def CalFourPoint(n,x,w):\n",
    "    if(n<4):\n",
    "        return x\n",
    "    \n",
    "    xx =[complex(0,0) for x in range(8)]\n",
    "\n",
    "    for i in range(0,n):\n",
    "        if((i>=0 and i<=1) or(i>=4 and i<=5)):\n",
    "            xx[i]=(x[i]+x[i+2])\n",
    "        else:\n",
    "            xx[i]=((-1*x[i]+x[i-2])*w[(i&1)])\n",
    "    print(\"After Four Point x(n): \",xx)\n",
    "\n",
    "    return xx\n",
    "    \n",
    "\n",
    "def CalTwoPoint(n,x):\n",
    "    xx =[complex(0,0) for x in range(8)]\n",
    "    for i in range(0,n):\n",
    "        if(i%2==1):\n",
    "            xx[i]=((-1*x[i]+x[i-1]))\n",
    "        else:\n",
    "            xx[i]=(x[i]+x[i+1])        \n",
    "    print(\"After Two Point x(n): \",xx)\n",
    "\n",
    "    return xx\n",
    "\n",
    "\n",
    "def Reverse(x,n):\n",
    "    y=0\n",
    "    cnt=0\n",
    "    while(cnt<np.log2(n)):\n",
    "        y=y<<1\n",
    "        if(x&1==1):\n",
    "           y=y|1           \n",
    "        x=x>>1\n",
    "        \n",
    "        cnt+=1\n",
    "    \n",
    "    return y\n",
    "           \n",
    "\n",
    "\n",
    "def GenerateXOfK(x,n):\n",
    "    xx =[complex(0,0) for x in range(len(x))]\n",
    "\n",
    "    for i in range(0,len(x)):\n",
    "        xx[Reverse(i,n)]=x[i]\n",
    "    return xx\n",
    "\n",
    "\n",
    "w4=[complex(1,0),complex(0,-1)]\n",
    "w8=[complex(1,0),complex(0.707,-0.707),complex(0,-1),complex(-0.707,-0.707)]\n",
    "\n",
    "x1 = CalEightPoint(nPoint,x,w8)\n",
    "x2 = CalFourPoint(nPoint,x1,w4)\n",
    "x3 = CalTwoPoint(nPoint,x2)\n",
    "\n",
    "ans = GenerateXOfK(x3,nPoint)\n",
    "print(\"x(k): \",ans)\n"
   ]
  }
 ],
 "metadata": {
  "kernelspec": {
   "display_name": "base",
   "language": "python",
   "name": "python3"
  },
  "language_info": {
   "codemirror_mode": {
    "name": "ipython",
    "version": 3
   },
   "file_extension": ".py",
   "mimetype": "text/x-python",
   "name": "python",
   "nbconvert_exporter": "python",
   "pygments_lexer": "ipython3",
   "version": "3.9.7"
  },
  "orig_nbformat": 4,
  "vscode": {
   "interpreter": {
    "hash": "dc07d24e2f18896857f0b2a651fe84ba40ce7b297e58d8804a308c8039f752a6"
   }
  }
 },
 "nbformat": 4,
 "nbformat_minor": 2
}
