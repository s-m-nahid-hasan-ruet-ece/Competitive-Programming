{
 "cells": [
  {
   "cell_type": "code",
   "execution_count": 4,
   "metadata": {},
   "outputs": [
    {
     "name": "stdout",
     "output_type": "stream",
     "text": [
      "Number of Point: 8\n",
      "x(n):  [1, 2, 4, 8, 16, 32, 64, 128]\n"
     ]
    }
   ],
   "source": [
    "nPoint = int(input(\"Enter the number of point: \"))\n",
    "\n",
    "x=[]\n",
    "\n",
    "for i in range(0,nPoint):\n",
    "    x.append(int(input(\"x(%d): \"%i))) \n",
    "\n",
    "print(\"Number of Point: %d\"%(nPoint))\n",
    "print(\"x(n): \",x)\n"
   ]
  },
  {
   "cell_type": "code",
   "execution_count": 8,
   "metadata": {},
   "outputs": [
    {
     "name": "stdout",
     "output_type": "stream",
     "text": [
      "   \n",
      "After Two Point x(n):  [3, -1, 12, -4, 48, -16, 192, -64]\n",
      "After Four Point x(n):  [(15+0j), (-1+4j), (-9+0j), (-1-4j), (240+0j), (-16+64j), (-144+0j), (-16-64j)]\n",
      "[(1+0j), (0.707-0.707j), -1j, (-0.707-0.707j)]\n",
      "After Eight Point x(n):  [(255+0j), (32.936+60.559999999999995j), (-9+144j), (-34.936+52.559999999999995j), (-225+0j), (-34.936-52.559999999999995j), (-9-144j), (32.936-60.559999999999995j)]\n",
      "x(k):  [(255+0j), (32.936+60.559999999999995j), (-9+144j), (-34.936+52.559999999999995j), (-225+0j), (-34.936-52.559999999999995j), (-9-144j), (32.936-60.559999999999995j)]\n"
     ]
    }
   ],
   "source": [
    "import numpy as np\n",
    "def CalEightPoint(n,x,w):\n",
    "    if(n<8):\n",
    "        return x\n",
    "    print(w)\n",
    "    xx =[complex(0,0) for x in range(8)]\n",
    "\n",
    "    for i in range(0,n):\n",
    "        if(i>3):\n",
    "            x[i]=(x[i]*w[(i-4)])\n",
    "\n",
    "    for i in range(0,n):\n",
    "        if(i<4):\n",
    "            xx[i]=(x[i]+x[i+4])\n",
    "        else:\n",
    "            xx[i]=((-1*x[i]+x[i-4]))\n",
    "    \n",
    "    print(\"After Eight Point x(n): \",xx)\n",
    "\n",
    "    return xx\n",
    "\n",
    "\n",
    "\n",
    "def CalFourPoint(n,x,w):\n",
    "    if(n<4):\n",
    "        return x\n",
    "    \n",
    "    xx =[complex(0,0) for x in range(8)]\n",
    "    for i in range(0,n):\n",
    "        if((i>=2 and i<=3) or(i>=6 and i<=7)):\n",
    "            x[i]=(x[i]*w[(i&1)])\n",
    "\n",
    "\n",
    "    for i in range(0,n):\n",
    "        if((i>=0 and i<=1) or(i>=4 and i<=5)):\n",
    "            xx[i]=(x[i]+x[i+2])\n",
    "        else:\n",
    "            xx[i]=(-1*x[i]+(x[i-2]))\n",
    "    print(\"After Four Point x(n): \",xx)\n",
    "\n",
    "    return xx\n",
    "    \n",
    "\n",
    "def CalTwoPoint(n,x):\n",
    "    xx =[complex(0,0) for x in range(8)]\n",
    "    for i in range(0,n):\n",
    "        if(i%2==1):\n",
    "            xx[i]=((-1*x[i]+x[i-1]))\n",
    "        else:\n",
    "            xx[i]=(x[i]+x[i+1])        \n",
    "    print(\"After Two Point x(n): \",xx)\n",
    "\n",
    "    return xx\n",
    "\n",
    "\n",
    "def Reverse(x,n):\n",
    "    y=0\n",
    "    cnt=0\n",
    "    while(cnt<np.log2(n)):\n",
    "        y=y<<1\n",
    "        if(x&1==1):\n",
    "           y=y|1           \n",
    "        x=x>>1\n",
    "        \n",
    "        cnt+=1\n",
    "    \n",
    "    return y\n",
    "           \n",
    "\n",
    "\n",
    "def GenerateXOfK(x,n):\n",
    "    xx =[complex(0,0) for x in range(len(x))]\n",
    "\n",
    "    for i in range(0,len(x)):\n",
    "        xx[Reverse(i,n)]=x[i]\n",
    "    return xx\n",
    "\n",
    "\n",
    "w4=[complex(1,0),complex(0,-1)]\n",
    "w8=[complex(1,0),complex(0.707,-0.707),complex(0,-1),complex(-0.707,-0.707)]\n",
    "\n",
    "x = GenerateXOfK(x,nPoint)\n",
    "x1= CalTwoPoint(nPoint,x)\n",
    "x2 = CalFourPoint(nPoint,x1,w4)\n",
    "x3 = CalEightPoint(nPoint,x2,w8)\n",
    "\n",
    "print(\"x(k): \",x3)"
   ]
  }
 ],
 "metadata": {
  "kernelspec": {
   "display_name": "base",
   "language": "python",
   "name": "python3"
  },
  "language_info": {
   "codemirror_mode": {
    "name": "ipython",
    "version": 3
   },
   "file_extension": ".py",
   "mimetype": "text/x-python",
   "name": "python",
   "nbconvert_exporter": "python",
   "pygments_lexer": "ipython3",
   "version": "3.9.7"
  },
  "orig_nbformat": 4,
  "vscode": {
   "interpreter": {
    "hash": "dc07d24e2f18896857f0b2a651fe84ba40ce7b297e58d8804a308c8039f752a6"
   }
  }
 },
 "nbformat": 4,
 "nbformat_minor": 2
}
